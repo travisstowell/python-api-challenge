{
 "cells": [
  {
   "cell_type": "markdown",
   "metadata": {},
   "source": [
    "# WeatherPy\n",
    "----\n",
    "\n",
    "#### Note\n",
    "* Instructions have been included for each segment. You do not have to follow them exactly, but they are included to help you think through the steps."
   ]
  },
  {
   "cell_type": "code",
   "execution_count": 1,
   "metadata": {
    "scrolled": true
   },
   "outputs": [],
   "source": [
    "# Dependencies and Setup\n",
    "import matplotlib.pyplot as plt\n",
    "import pandas as pd\n",
    "import numpy as np\n",
    "import requests\n",
    "import time\n",
    "from scipy.stats import linregress\n",
    "\n",
    "# Import API key\n",
    "from api_keys import weather_api_key\n",
    "temp_units = \"imperial\"\n",
    "\n",
    "# Incorporated citipy to determine city based on latitude and longitude\n",
    "from citipy import citipy\n",
    "\n",
    "# Output File (CSV)\n",
    "output_data_file = \"output_data/cities.csv\"\n",
    "\n",
    "# Range of latitudes and longitudes\n",
    "lat_range = (-90, 90)\n",
    "lng_range = (-180, 180)\n",
    "\n",
    "# Query URL\n",
    "query_url = f\"http://api.openweathermap.org/data/2.5/weather?appid={weather_api_key}&units={temp_units}&q=\"\n",
    "\n",
    "# Define count of pass throughs\n",
    "count_one = 0\n",
    "set_one = 1"
   ]
  },
  {
   "cell_type": "markdown",
   "metadata": {},
   "source": [
    "## Generate Cities List"
   ]
  },
  {
   "cell_type": "code",
   "execution_count": 2,
   "metadata": {},
   "outputs": [
    {
     "data": {
      "text/plain": [
       "599"
      ]
     },
     "execution_count": 2,
     "metadata": {},
     "output_type": "execute_result"
    }
   ],
   "source": [
    "# List for holding lat_lngs and cities\n",
    "lat_lngs = []\n",
    "cities = []\n",
    "\n",
    "# Create a set of random lat and lng combinations\n",
    "lats = np.random.uniform(lat_range[0], lat_range[1], size=1500)\n",
    "lngs = np.random.uniform(lng_range[0], lng_range[1], size=1500)\n",
    "lat_lngs = zip(lats, lngs)\n",
    "\n",
    "# Identify nearest city for each lat, lng combination\n",
    "for lat_lng in lat_lngs:\n",
    "    city = citipy.nearest_city(lat_lng[0], lat_lng[1]).city_name\n",
    "    \n",
    "    # If the city is unique, then add it to a our cities list\n",
    "    if city not in cities:\n",
    "        cities.append(city)\n",
    "\n",
    "# Print the city count to confirm sufficient count\n",
    "len(cities)"
   ]
  },
  {
   "cell_type": "markdown",
   "metadata": {},
   "source": [
    "### Perform API Calls\n",
    "* Perform a weather check on each city using a series of successive API calls.\n",
    "* Include a print log of each city as it'sbeing processed (with the city number and city name).\n"
   ]
  },
  {
   "cell_type": "code",
   "execution_count": 3,
   "metadata": {
    "scrolled": true
   },
   "outputs": [
    {
     "name": "stdout",
     "output_type": "stream",
     "text": [
      "Processing Record 1 of Set 1 | lata\n",
      "Processing Record 2 of Set 1 | ushuaia\n",
      "Processing Record 3 of Set 1 | busselton\n",
      "Processing Record 4 of Set 1 | soyo\n",
      "Processing Record 5 of Set 1 | delta del tigre\n",
      "Processing Record 6 of Set 1 | languyan\n",
      "Processing Record 7 of Set 1 | port elizabeth\n",
      "Processing Record 8 of Set 1 | puerto ayora\n",
      "Processing Record 9 of Set 1 | saint-philippe\n",
      "City not found. Skipping...\n",
      "Processing Record 10 of Set 1 | kruisfontein\n",
      "Processing Record 11 of Set 1 | ribeira grande\n",
      "Processing Record 12 of Set 1 | hithadhoo\n",
      "Processing Record 13 of Set 1 | norman wells\n",
      "Processing Record 14 of Set 1 | geraldton\n",
      "Processing Record 15 of Set 1 | lompoc\n",
      "Processing Record 16 of Set 1 | tuatapere\n",
      "Processing Record 17 of Set 1 | faanui\n",
      "Processing Record 18 of Set 1 | avarua\n",
      "Processing Record 19 of Set 1 | mahebourg\n",
      "Processing Record 20 of Set 1 | bansang\n",
      "Processing Record 21 of Set 1 | kenora\n",
      "Processing Record 22 of Set 1 | vaini\n",
      "Processing Record 23 of Set 1 | clyde river\n",
      "Processing Record 24 of Set 1 | rikitea\n",
      "Processing Record 25 of Set 1 | padang\n",
      "Processing Record 26 of Set 1 | chumikan\n",
      "Processing Record 27 of Set 1 | cobourg\n",
      "Processing Record 28 of Set 1 | new norfolk\n",
      "Processing Record 29 of Set 1 | constitucion\n",
      "City not found. Skipping...\n",
      "City not found. Skipping...\n",
      "Processing Record 30 of Set 1 | leningradskiy\n",
      "Processing Record 31 of Set 1 | achern\n",
      "Processing Record 32 of Set 1 | sorong\n",
      "Processing Record 33 of Set 1 | oktyabrskiy\n",
      "Processing Record 34 of Set 1 | mataura\n",
      "Processing Record 35 of Set 1 | maniitsoq\n",
      "City not found. Skipping...\n",
      "Processing Record 36 of Set 1 | jamestown\n",
      "Processing Record 37 of Set 1 | meiganga\n",
      "Processing Record 38 of Set 1 | albany\n",
      "Processing Record 39 of Set 1 | kaka\n",
      "Processing Record 40 of Set 1 | punta arenas\n",
      "Processing Record 41 of Set 1 | lorengau\n",
      "Processing Record 42 of Set 1 | noumea\n",
      "Processing Record 43 of Set 1 | yumen\n",
      "Processing Record 44 of Set 1 | erzin\n",
      "City not found. Skipping...\n",
      "Processing Record 45 of Set 1 | port alfred\n",
      "Processing Record 46 of Set 1 | kushiro\n",
      "Processing Record 47 of Set 1 | hjelset\n",
      "Processing Record 48 of Set 1 | dikson\n",
      "Processing Record 49 of Set 1 | derzhavinsk\n",
      "Processing Record 1 of Set 2 | sisimiut\n",
      "Processing Record 2 of Set 2 | hambantota\n",
      "Processing Record 3 of Set 2 | rio gallegos\n",
      "Processing Record 4 of Set 2 | pevek\n",
      "Processing Record 5 of Set 2 | hilo\n",
      "Processing Record 6 of Set 2 | plouzane\n",
      "Processing Record 7 of Set 2 | qaanaaq\n",
      "Processing Record 8 of Set 2 | port hardy\n",
      "Processing Record 9 of Set 2 | atar\n",
      "City not found. Skipping...\n",
      "Processing Record 10 of Set 2 | belmonte\n",
      "Processing Record 11 of Set 2 | chokurdakh\n",
      "Processing Record 12 of Set 2 | tuktoyaktuk\n",
      "Processing Record 13 of Set 2 | vostok\n",
      "Processing Record 14 of Set 2 | atuona\n",
      "City not found. Skipping...\n",
      "Processing Record 15 of Set 2 | esperance\n",
      "Processing Record 16 of Set 2 | okoneshnikovo\n",
      "Processing Record 17 of Set 2 | mezen\n",
      "City not found. Skipping...\n",
      "Processing Record 18 of Set 2 | shimoda\n",
      "Processing Record 19 of Set 2 | lagunas\n",
      "Processing Record 20 of Set 2 | joshimath\n",
      "Processing Record 21 of Set 2 | shingu\n",
      "Processing Record 22 of Set 2 | bambous virieux\n",
      "Processing Record 23 of Set 2 | vestmannaeyjar\n",
      "Processing Record 24 of Set 2 | morinville\n",
      "Processing Record 25 of Set 2 | kavieng\n",
      "City not found. Skipping...\n",
      "Processing Record 26 of Set 2 | gasa\n",
      "Processing Record 27 of Set 2 | karratha\n",
      "Processing Record 28 of Set 2 | gogrial\n",
      "Processing Record 29 of Set 2 | genhe\n",
      "Processing Record 30 of Set 2 | severo-kurilsk\n",
      "Processing Record 31 of Set 2 | torbay\n",
      "Processing Record 32 of Set 2 | poum\n",
      "Processing Record 33 of Set 2 | hobart\n",
      "Processing Record 34 of Set 2 | san martin\n",
      "Processing Record 35 of Set 2 | malumfashi\n",
      "Processing Record 36 of Set 2 | bluff\n",
      "Processing Record 37 of Set 2 | barrow\n",
      "Processing Record 38 of Set 2 | visby\n",
      "Processing Record 39 of Set 2 | hermanus\n",
      "Processing Record 40 of Set 2 | touros\n",
      "Processing Record 41 of Set 2 | barcelos\n",
      "City not found. Skipping...\n",
      "Processing Record 42 of Set 2 | agadez\n",
      "Processing Record 43 of Set 2 | moletai\n",
      "Processing Record 44 of Set 2 | kapaa\n",
      "Processing Record 45 of Set 2 | sao filipe\n",
      "Processing Record 46 of Set 2 | cape town\n",
      "Processing Record 47 of Set 2 | saint-augustin\n",
      "Processing Record 48 of Set 2 | mar del plata\n",
      "Processing Record 49 of Set 2 | santa rosa\n",
      "City not found. Skipping...\n",
      "Processing Record 1 of Set 3 | chuka\n",
      "Processing Record 2 of Set 3 | lulea\n",
      "Processing Record 3 of Set 3 | butaritari\n",
      "Processing Record 4 of Set 3 | east london\n",
      "Processing Record 5 of Set 3 | elizabeth city\n",
      "Processing Record 6 of Set 3 | valparaiso\n",
      "Processing Record 7 of Set 3 | rusape\n",
      "Processing Record 8 of Set 3 | severo-yeniseyskiy\n",
      "Processing Record 9 of Set 3 | gat\n",
      "Processing Record 10 of Set 3 | adrar\n",
      "City not found. Skipping...\n",
      "Processing Record 11 of Set 3 | srednekolymsk\n",
      "Processing Record 12 of Set 3 | tucuma\n",
      "City not found. Skipping...\n",
      "Processing Record 13 of Set 3 | bethel\n",
      "Processing Record 14 of Set 3 | airai\n",
      "Processing Record 15 of Set 3 | oskarshamn\n",
      "City not found. Skipping...\n",
      "Processing Record 16 of Set 3 | nome\n",
      "Processing Record 17 of Set 3 | yellowknife\n",
      "Processing Record 18 of Set 3 | carupano\n",
      "Processing Record 19 of Set 3 | kidal\n",
      "Processing Record 20 of Set 3 | sabang\n",
      "Processing Record 21 of Set 3 | longyearbyen\n",
      "Processing Record 22 of Set 3 | viedma\n",
      "City not found. Skipping...\n",
      "Processing Record 23 of Set 3 | svetlaya\n",
      "Processing Record 24 of Set 3 | pisco\n",
      "Processing Record 25 of Set 3 | lethem\n",
      "Processing Record 26 of Set 3 | waingapu\n",
      "Processing Record 27 of Set 3 | bengkulu\n",
      "Processing Record 28 of Set 3 | klaksvik\n",
      "Processing Record 29 of Set 3 | abu samrah\n",
      "Processing Record 30 of Set 3 | casa grande\n",
      "Processing Record 31 of Set 3 | richards bay\n",
      "Processing Record 32 of Set 3 | gornyak\n",
      "Processing Record 33 of Set 3 | tasiilaq\n",
      "Processing Record 34 of Set 3 | guerrero negro\n",
      "Processing Record 35 of Set 3 | provideniya\n",
      "Processing Record 36 of Set 3 | cabo san lucas\n",
      "Processing Record 37 of Set 3 | carnarvon\n",
      "Processing Record 38 of Set 3 | muros\n",
      "Processing Record 39 of Set 3 | karabuk\n",
      "Processing Record 40 of Set 3 | zhangjiakou\n",
      "Processing Record 41 of Set 3 | aktau\n",
      "Processing Record 42 of Set 3 | souillac\n",
      "Processing Record 43 of Set 3 | malakal\n",
      "Processing Record 44 of Set 3 | khatanga\n",
      "Processing Record 45 of Set 3 | chuy\n",
      "Processing Record 46 of Set 3 | bartica\n",
      "Processing Record 47 of Set 3 | antofagasta\n",
      "Processing Record 48 of Set 3 | nanortalik\n",
      "Processing Record 49 of Set 3 | cadillac\n",
      "Processing Record 1 of Set 4 | monforte de lemos\n",
      "Processing Record 2 of Set 4 | palana\n",
      "Processing Record 3 of Set 4 | newcastle\n",
      "Processing Record 4 of Set 4 | thompson\n",
      "Processing Record 5 of Set 4 | arraial do cabo\n",
      "Processing Record 6 of Set 4 | ngaoundere\n",
      "Processing Record 7 of Set 4 | bredasdorp\n",
      "City not found. Skipping...\n",
      "Processing Record 8 of Set 4 | myingyan\n",
      "Processing Record 9 of Set 4 | blackwater\n",
      "City not found. Skipping...\n",
      "Processing Record 10 of Set 4 | nikolskoye\n",
      "Processing Record 11 of Set 4 | inuvik\n",
      "Processing Record 12 of Set 4 | konin\n",
      "Processing Record 13 of Set 4 | castro\n",
      "Processing Record 14 of Set 4 | jalu\n",
      "Processing Record 15 of Set 4 | maralal\n",
      "Processing Record 16 of Set 4 | harper\n",
      "Processing Record 17 of Set 4 | katsuura\n",
      "Processing Record 18 of Set 4 | makakilo city\n",
      "Processing Record 19 of Set 4 | nova lima\n",
      "City not found. Skipping...\n",
      "Processing Record 20 of Set 4 | aklavik\n",
      "Processing Record 21 of Set 4 | ermelo\n",
      "Processing Record 22 of Set 4 | lavrentiya\n",
      "Processing Record 23 of Set 4 | upernavik\n",
      "Processing Record 24 of Set 4 | dawei\n",
      "Processing Record 25 of Set 4 | nemsova\n",
      "City not found. Skipping...\n",
      "Processing Record 26 of Set 4 | juegang\n",
      "Processing Record 27 of Set 4 | coahuayana\n",
      "Processing Record 28 of Set 4 | fomboni\n",
      "Processing Record 29 of Set 4 | puerto baquerizo moreno\n",
      "Processing Record 30 of Set 4 | rocky mountain house\n",
      "City not found. Skipping...\n",
      "City not found. Skipping...\n",
      "Processing Record 31 of Set 4 | pareora\n",
      "Processing Record 32 of Set 4 | novaky\n",
      "City not found. Skipping...\n",
      "Processing Record 33 of Set 4 | mudon\n",
      "Processing Record 34 of Set 4 | kenai\n",
      "Processing Record 35 of Set 4 | san mateo del mar\n",
      "Processing Record 36 of Set 4 | honningsvag\n",
      "City not found. Skipping...\n"
     ]
    },
    {
     "name": "stdout",
     "output_type": "stream",
     "text": [
      "Processing Record 37 of Set 4 | illapel\n",
      "Processing Record 38 of Set 4 | ambon\n",
      "Processing Record 39 of Set 4 | broome\n",
      "Processing Record 40 of Set 4 | warwick\n",
      "Processing Record 41 of Set 4 | sambava\n",
      "Processing Record 42 of Set 4 | georgetown\n",
      "Processing Record 43 of Set 4 | iqaluit\n",
      "Processing Record 44 of Set 4 | okhotsk\n",
      "Processing Record 45 of Set 4 | luoyang\n",
      "Processing Record 46 of Set 4 | sibolga\n",
      "Processing Record 47 of Set 4 | dhana\n",
      "Processing Record 48 of Set 4 | tromso\n",
      "Processing Record 49 of Set 4 | sooke\n",
      "Processing Record 1 of Set 5 | nemuro\n",
      "Processing Record 2 of Set 5 | hasaki\n",
      "Processing Record 3 of Set 5 | ancud\n",
      "Processing Record 4 of Set 5 | trairi\n",
      "Processing Record 5 of Set 5 | taltal\n",
      "Processing Record 6 of Set 5 | mutis\n",
      "Processing Record 7 of Set 5 | ust-nera\n",
      "Processing Record 8 of Set 5 | chapaevsk\n",
      "Processing Record 9 of Set 5 | ruteng\n",
      "Processing Record 10 of Set 5 | dali\n",
      "Processing Record 11 of Set 5 | tigre\n",
      "Processing Record 12 of Set 5 | kapit\n",
      "City not found. Skipping...\n",
      "Processing Record 13 of Set 5 | opuwo\n",
      "Processing Record 14 of Set 5 | newport\n",
      "Processing Record 15 of Set 5 | coihaique\n",
      "Processing Record 16 of Set 5 | fortuna\n",
      "Processing Record 17 of Set 5 | tongchuan\n",
      "Processing Record 18 of Set 5 | molango\n",
      "Processing Record 19 of Set 5 | sao felix do xingu\n",
      "City not found. Skipping...\n",
      "Processing Record 20 of Set 5 | luderitz\n",
      "Processing Record 21 of Set 5 | betioky\n",
      "Processing Record 22 of Set 5 | mayo\n",
      "Processing Record 23 of Set 5 | havre-saint-pierre\n",
      "Processing Record 24 of Set 5 | noyabrsk\n",
      "Processing Record 25 of Set 5 | dingle\n",
      "Processing Record 26 of Set 5 | tahoua\n",
      "Processing Record 27 of Set 5 | kieta\n",
      "Processing Record 28 of Set 5 | coquimbo\n",
      "Processing Record 29 of Set 5 | kedrovyy\n",
      "Processing Record 30 of Set 5 | andujar\n",
      "Processing Record 31 of Set 5 | guaruja\n",
      "Processing Record 32 of Set 5 | claremorris\n",
      "Processing Record 33 of Set 5 | kamenka\n",
      "Processing Record 34 of Set 5 | hirara\n",
      "Processing Record 35 of Set 5 | lagoa\n",
      "Processing Record 36 of Set 5 | kodiak\n",
      "Processing Record 37 of Set 5 | alpena\n",
      "City not found. Skipping...\n",
      "City not found. Skipping...\n",
      "Processing Record 38 of Set 5 | kanniyakumari\n",
      "Processing Record 39 of Set 5 | lebu\n",
      "Processing Record 40 of Set 5 | northam\n",
      "Processing Record 41 of Set 5 | okakarara\n",
      "Processing Record 42 of Set 5 | ambilobe\n",
      "Processing Record 43 of Set 5 | sarkand\n",
      "Processing Record 44 of Set 5 | avera\n",
      "City not found. Skipping...\n",
      "Processing Record 45 of Set 5 | belyy yar\n",
      "Processing Record 46 of Set 5 | sorland\n",
      "Processing Record 47 of Set 5 | makaryev\n",
      "Processing Record 48 of Set 5 | hamilton\n",
      "Processing Record 49 of Set 5 | vila franca do campo\n",
      "Processing Record 1 of Set 6 | morondava\n",
      "Processing Record 2 of Set 6 | alofi\n",
      "Processing Record 3 of Set 6 | zambezi\n",
      "Processing Record 4 of Set 6 | ponta do sol\n",
      "Processing Record 5 of Set 6 | isangel\n",
      "Processing Record 6 of Set 6 | axim\n",
      "Processing Record 7 of Set 6 | safaga\n",
      "Processing Record 8 of Set 6 | san quintin\n",
      "Processing Record 9 of Set 6 | namibe\n",
      "City not found. Skipping...\n",
      "Processing Record 10 of Set 6 | narsaq\n",
      "Processing Record 11 of Set 6 | zalantun\n",
      "Processing Record 12 of Set 6 | waipawa\n",
      "City not found. Skipping...\n",
      "Processing Record 13 of Set 6 | flin flon\n",
      "Processing Record 14 of Set 6 | bataipora\n",
      "City not found. Skipping...\n",
      "Processing Record 15 of Set 6 | buala\n",
      "Processing Record 16 of Set 6 | kokomo\n",
      "City not found. Skipping...\n",
      "Processing Record 17 of Set 6 | sansare\n",
      "Processing Record 18 of Set 6 | pau\n",
      "Processing Record 19 of Set 6 | changji\n",
      "Processing Record 20 of Set 6 | shumikha\n",
      "City not found. Skipping...\n",
      "Processing Record 21 of Set 6 | madimba\n",
      "Processing Record 22 of Set 6 | ilulissat\n",
      "Processing Record 23 of Set 6 | onega\n",
      "Processing Record 24 of Set 6 | xochihuehuetlan\n",
      "Processing Record 25 of Set 6 | shetpe\n",
      "City not found. Skipping...\n",
      "Processing Record 26 of Set 6 | ankazoabo\n",
      "Processing Record 27 of Set 6 | paita\n",
      "Processing Record 28 of Set 6 | pierre\n",
      "Processing Record 29 of Set 6 | hokitika\n",
      "Processing Record 30 of Set 6 | wageningen\n",
      "Processing Record 31 of Set 6 | udachnyy\n",
      "Processing Record 32 of Set 6 | timberlake\n",
      "Processing Record 33 of Set 6 | kalawit\n",
      "Processing Record 34 of Set 6 | sayyan\n",
      "Processing Record 35 of Set 6 | murgab\n",
      "Processing Record 36 of Set 6 | rawson\n",
      "City not found. Skipping...\n",
      "Processing Record 37 of Set 6 | bijie\n",
      "Processing Record 38 of Set 6 | amarante do maranhao\n",
      "City not found. Skipping...\n",
      "Processing Record 39 of Set 6 | mount gambier\n",
      "Processing Record 40 of Set 6 | gisborne\n",
      "Processing Record 41 of Set 6 | honiara\n",
      "Processing Record 42 of Set 6 | inhambane\n",
      "Processing Record 43 of Set 6 | deh rawud\n",
      "Processing Record 44 of Set 6 | laguna\n",
      "Processing Record 45 of Set 6 | port blair\n",
      "City not found. Skipping...\n",
      "City not found. Skipping...\n",
      "Processing Record 46 of Set 6 | rio grande\n",
      "Processing Record 47 of Set 6 | molchanovo\n",
      "Processing Record 48 of Set 6 | saskylakh\n",
      "Processing Record 49 of Set 6 | niquero\n",
      "Processing Record 1 of Set 7 | beringovskiy\n",
      "Processing Record 2 of Set 7 | high level\n",
      "City not found. Skipping...\n",
      "City not found. Skipping...\n",
      "Processing Record 3 of Set 7 | lamu\n",
      "Processing Record 4 of Set 7 | anqing\n",
      "Processing Record 5 of Set 7 | phaphund\n",
      "Processing Record 6 of Set 7 | itiuba\n",
      "Processing Record 7 of Set 7 | doha\n",
      "Processing Record 8 of Set 7 | okato\n",
      "Processing Record 9 of Set 7 | tharad\n",
      "Processing Record 10 of Set 7 | caravelas\n",
      "Processing Record 11 of Set 7 | katherine\n",
      "Processing Record 12 of Set 7 | winslow\n",
      "Processing Record 13 of Set 7 | bandarbeyla\n",
      "Processing Record 14 of Set 7 | kapoeta\n",
      "Processing Record 15 of Set 7 | kununurra\n",
      "Processing Record 16 of Set 7 | kalevala\n",
      "Processing Record 17 of Set 7 | ostersund\n",
      "Processing Record 18 of Set 7 | pedasi\n",
      "Processing Record 19 of Set 7 | kozlovo\n",
      "Processing Record 20 of Set 7 | kaitangata\n",
      "Processing Record 21 of Set 7 | san patricio\n",
      "Processing Record 22 of Set 7 | cherskiy\n",
      "City not found. Skipping...\n",
      "City not found. Skipping...\n",
      "Processing Record 23 of Set 7 | san jose\n",
      "Processing Record 24 of Set 7 | talara\n",
      "Processing Record 25 of Set 7 | pervomayskiy\n",
      "City not found. Skipping...\n",
      "City not found. Skipping...\n",
      "Processing Record 26 of Set 7 | mys shmidta\n",
      "Processing Record 27 of Set 7 | cayenne\n",
      "Processing Record 28 of Set 7 | chippewa falls\n",
      "Processing Record 29 of Set 7 | bagenalstown\n",
      "Processing Record 30 of Set 7 | canavieiras\n",
      "City not found. Skipping...\n",
      "Processing Record 31 of Set 7 | college\n",
      "Processing Record 32 of Set 7 | havoysund\n",
      "Processing Record 33 of Set 7 | saldanha\n",
      "Processing Record 34 of Set 7 | luganville\n",
      "Processing Record 35 of Set 7 | bousse\n",
      "Processing Record 36 of Set 7 | goderich\n",
      "City not found. Skipping...\n",
      "Processing Record 37 of Set 7 | kinkala\n",
      "Processing Record 38 of Set 7 | petropavlovsk-kamchatskiy\n",
      "Processing Record 39 of Set 7 | ahipara\n",
      "Processing Record 40 of Set 7 | payo\n",
      "Processing Record 41 of Set 7 | gold coast\n",
      "Processing Record 42 of Set 7 | kavaratti\n",
      "Processing Record 43 of Set 7 | port lincoln\n",
      "Processing Record 44 of Set 7 | itoman\n",
      "Processing Record 45 of Set 7 | vallenar\n",
      "Processing Record 46 of Set 7 | teeli\n",
      "Processing Record 47 of Set 7 | usevya\n",
      "Processing Record 48 of Set 7 | dzerzhinskoye\n",
      "Processing Record 49 of Set 7 | fernandopolis\n",
      "Processing Record 1 of Set 8 | lasa\n",
      "Processing Record 2 of Set 8 | jacqueville\n",
      "Processing Record 3 of Set 8 | codrington\n",
      "Processing Record 4 of Set 8 | anadyr\n",
      "Processing Record 5 of Set 8 | yanam\n",
      "Processing Record 6 of Set 8 | anito\n",
      "Processing Record 7 of Set 8 | tinaquillo\n",
      "Processing Record 8 of Set 8 | lincoln\n",
      "Processing Record 9 of Set 8 | taoudenni\n",
      "Processing Record 10 of Set 8 | arecibo\n",
      "Processing Record 11 of Set 8 | sao gabriel da cachoeira\n",
      "Processing Record 12 of Set 8 | jiangyou\n",
      "Processing Record 13 of Set 8 | tessalit\n",
      "Processing Record 14 of Set 8 | ghatampur\n",
      "Processing Record 15 of Set 8 | papara\n",
      "Processing Record 16 of Set 8 | tottori\n",
      "Processing Record 17 of Set 8 | conde\n",
      "Processing Record 18 of Set 8 | pucallpa\n",
      "Processing Record 19 of Set 8 | shilong\n",
      "Processing Record 20 of Set 8 | guanare\n",
      "City not found. Skipping...\n",
      "Processing Record 21 of Set 8 | hualmay\n",
      "City not found. Skipping...\n",
      "Processing Record 22 of Set 8 | north platte\n",
      "Processing Record 23 of Set 8 | salalah\n",
      "City not found. Skipping...\n",
      "City not found. Skipping...\n",
      "Processing Record 24 of Set 8 | parana\n"
     ]
    },
    {
     "name": "stdout",
     "output_type": "stream",
     "text": [
      "Processing Record 25 of Set 8 | saravan\n",
      "Processing Record 26 of Set 8 | grand gaube\n",
      "Processing Record 27 of Set 8 | port hawkesbury\n",
      "Processing Record 28 of Set 8 | shelburne\n",
      "Processing Record 29 of Set 8 | andra\n",
      "Processing Record 30 of Set 8 | nishihara\n",
      "Processing Record 31 of Set 8 | marzuq\n",
      "Processing Record 32 of Set 8 | ivrea\n",
      "Processing Record 33 of Set 8 | itubera\n",
      "Processing Record 34 of Set 8 | port macquarie\n",
      "Processing Record 35 of Set 8 | tombouctou\n",
      "Processing Record 36 of Set 8 | libertador general san martin\n",
      "Processing Record 37 of Set 8 | uspenka\n",
      "Processing Record 38 of Set 8 | chardara\n",
      "Processing Record 39 of Set 8 | tambo\n",
      "Processing Record 40 of Set 8 | cockburn town\n",
      "Processing Record 41 of Set 8 | beidao\n",
      "Processing Record 42 of Set 8 | praia da vitoria\n",
      "Processing Record 43 of Set 8 | sawakin\n",
      "City not found. Skipping...\n",
      "Processing Record 44 of Set 8 | camacha\n",
      "Processing Record 45 of Set 8 | trenggalek\n",
      "Processing Record 46 of Set 8 | celestun\n",
      "City not found. Skipping...\n",
      "Processing Record 47 of Set 8 | tiksi\n",
      "Processing Record 48 of Set 8 | westport\n",
      "Processing Record 49 of Set 8 | borba\n",
      "Processing Record 1 of Set 9 | denia\n",
      "Processing Record 2 of Set 9 | sinnamary\n",
      "City not found. Skipping...\n",
      "City not found. Skipping...\n",
      "Processing Record 3 of Set 9 | peace river\n",
      "Processing Record 4 of Set 9 | asheboro\n",
      "Processing Record 5 of Set 9 | gamba\n",
      "Processing Record 6 of Set 9 | tomatlan\n",
      "Processing Record 7 of Set 9 | batagay-alyta\n",
      "Processing Record 8 of Set 9 | dongying\n",
      "Processing Record 9 of Set 9 | greenville\n",
      "City not found. Skipping...\n",
      "Processing Record 10 of Set 9 | juneau\n",
      "Processing Record 11 of Set 9 | sokolo\n",
      "Processing Record 12 of Set 9 | mogadishu\n",
      "Processing Record 13 of Set 9 | cururupu\n",
      "Processing Record 14 of Set 9 | grootfontein\n",
      "Processing Record 15 of Set 9 | zhigansk\n",
      "Processing Record 16 of Set 9 | alice springs\n",
      "Processing Record 17 of Set 9 | cidreira\n",
      "Processing Record 18 of Set 9 | pacifica\n",
      "Processing Record 19 of Set 9 | pokhara\n",
      "Processing Record 20 of Set 9 | kudahuvadhoo\n",
      "Processing Record 21 of Set 9 | vorotynets\n",
      "Processing Record 22 of Set 9 | cap-aux-meules\n",
      "Processing Record 23 of Set 9 | shiyan\n",
      "Processing Record 24 of Set 9 | calvinia\n",
      "Processing Record 25 of Set 9 | sovetskiy\n",
      "City not found. Skipping...\n",
      "City not found. Skipping...\n",
      "Processing Record 26 of Set 9 | lukovetskiy\n",
      "City not found. Skipping...\n",
      "Processing Record 27 of Set 9 | chegdomyn\n",
      "Processing Record 28 of Set 9 | hay river\n",
      "City not found. Skipping...\n",
      "Processing Record 29 of Set 9 | vitim\n",
      "Processing Record 30 of Set 9 | inirida\n",
      "Processing Record 31 of Set 9 | labytnangi\n",
      "Processing Record 32 of Set 9 | marrakesh\n",
      "Processing Record 33 of Set 9 | itarema\n",
      "Processing Record 34 of Set 9 | ostrovnoy\n",
      "Processing Record 35 of Set 9 | pajapan\n",
      "Processing Record 36 of Set 9 | lazaro cardenas\n",
      "Processing Record 37 of Set 9 | san luis\n",
      "Processing Record 38 of Set 9 | taldan\n",
      "Processing Record 39 of Set 9 | west wendover\n",
      "Processing Record 40 of Set 9 | kroya\n",
      "City not found. Skipping...\n",
      "Processing Record 41 of Set 9 | payakumbuh\n",
      "Processing Record 42 of Set 9 | santiago del estero\n",
      "Processing Record 43 of Set 9 | bathsheba\n",
      "Processing Record 44 of Set 9 | beloha\n",
      "Processing Record 45 of Set 9 | bom jesus\n",
      "Processing Record 46 of Set 9 | tecoanapa\n",
      "City not found. Skipping...\n",
      "Processing Record 47 of Set 9 | finnsnes\n",
      "Processing Record 48 of Set 9 | upington\n",
      "Processing Record 49 of Set 9 | eenhana\n",
      "Processing Record 1 of Set 10 | mathathane\n",
      "Processing Record 2 of Set 10 | vila velha\n",
      "Processing Record 3 of Set 10 | nantucket\n",
      "Processing Record 4 of Set 10 | burnsville\n",
      "Processing Record 5 of Set 10 | san fernando\n",
      "City not found. Skipping...\n",
      "Processing Record 6 of Set 10 | bouza\n",
      "Processing Record 7 of Set 10 | kurri kurri\n",
      "Processing Record 8 of Set 10 | severnyy\n",
      "Processing Record 9 of Set 10 | carinhanha\n",
      "Processing Record 10 of Set 10 | karoi\n",
      "Processing Record 11 of Set 10 | emerald\n",
      "Processing Record 12 of Set 10 | ilhabela\n",
      "Processing Record 13 of Set 10 | puerto escondido\n",
      "Processing Record 14 of Set 10 | tezu\n",
      "Processing Record 15 of Set 10 | berezovyy\n",
      "Processing Record 16 of Set 10 | nabire\n",
      "Processing Record 17 of Set 10 | bonfim\n",
      "Processing Record 18 of Set 10 | lomovka\n",
      "Processing Record 19 of Set 10 | ruthin\n",
      "Processing Record 20 of Set 10 | sal rei\n",
      "Processing Record 21 of Set 10 | urgut\n",
      "Processing Record 22 of Set 10 | coruripe\n",
      "Processing Record 23 of Set 10 | cabedelo\n",
      "Processing Record 24 of Set 10 | pimenta bueno\n",
      "Processing Record 25 of Set 10 | port hedland\n",
      "Processing Record 26 of Set 10 | north bend\n",
      "Processing Record 27 of Set 10 | nchelenge\n",
      "Processing Record 28 of Set 10 | progreso\n",
      "City not found. Skipping...\n",
      "Processing Record 29 of Set 10 | tanout\n",
      "Processing Record 30 of Set 10 | boddam\n",
      "City not found. Skipping...\n",
      "Processing Record 31 of Set 10 | chicama\n",
      "Processing Record 32 of Set 10 | balykshi\n",
      "Processing Record 33 of Set 10 | zhashkiv\n",
      "Processing Record 34 of Set 10 | carballo\n",
      "City not found. Skipping...\n",
      "Processing Record 35 of Set 10 | oistins\n",
      "City not found. Skipping...\n",
      "Processing Record 36 of Set 10 | maceio\n",
      "Processing Record 37 of Set 10 | prince rupert\n",
      "City not found. Skipping...\n",
      "Processing Record 38 of Set 10 | stornoway\n",
      "Processing Record 39 of Set 10 | masallatah\n",
      "Processing Record 40 of Set 10 | umba\n",
      "Processing Record 41 of Set 10 | kingston\n",
      "City not found. Skipping...\n",
      "Processing Record 42 of Set 10 | parvatsar\n",
      "Processing Record 43 of Set 10 | pangnirtung\n",
      "Processing Record 44 of Set 10 | hovd\n",
      "Processing Record 45 of Set 10 | khairagarh\n",
      "Processing Record 46 of Set 10 | san juan\n",
      "Processing Record 47 of Set 10 | talnakh\n",
      "Processing Record 48 of Set 10 | shushtar\n",
      "City not found. Skipping...\n",
      "Processing Record 49 of Set 10 | kindu\n",
      "City not found. Skipping...\n",
      "Processing Record 1 of Set 11 | victoria\n",
      "City not found. Skipping...\n",
      "Processing Record 2 of Set 11 | leua\n",
      "Processing Record 3 of Set 11 | maneadero\n",
      "Processing Record 4 of Set 11 | yeniseysk\n",
      "Processing Record 5 of Set 11 | vardo\n",
      "Processing Record 6 of Set 11 | ormara\n",
      "Processing Record 7 of Set 11 | hervey bay\n",
      "Processing Record 8 of Set 11 | severnoye\n",
      "Processing Record 9 of Set 11 | loa janan\n",
      "Processing Record 10 of Set 11 | pishva\n",
      "City not found. Skipping...\n",
      "Processing Record 11 of Set 11 | rzhyshchiv\n",
      "Processing Record 12 of Set 11 | seoul\n",
      "Processing Record 13 of Set 11 | teguldet\n",
      "Processing Record 14 of Set 11 | wuchi\n",
      "Processing Record 15 of Set 11 | labuhan\n",
      "Processing Record 16 of Set 11 | moussoro\n",
      "Processing Record 17 of Set 11 | bahia blanca\n",
      "Processing Record 18 of Set 11 | kupang\n",
      "Processing Record 19 of Set 11 | starotimoshkino\n",
      "Processing Record 20 of Set 11 | kirakira\n",
      "Processing Record 21 of Set 11 | quepos\n",
      "Processing Record 22 of Set 11 | bilibino\n",
      "City not found. Skipping...\n",
      "Processing Record 23 of Set 11 | trinidad\n",
      "Processing Record 24 of Set 11 | sao joao da barra\n",
      "Processing Record 25 of Set 11 | san vicente pacaya\n",
      "Processing Record 26 of Set 11 | yerbogachen\n",
      "Processing Record 27 of Set 11 | slatina\n",
      "Processing Record 28 of Set 11 | santa catarina de tepehuanes\n",
      "Processing Record 29 of Set 11 | sola\n",
      "Processing Record 30 of Set 11 | castanos\n",
      "Processing Record 31 of Set 11 | jacareacanga\n",
      "Processing Record 32 of Set 11 | aksu\n",
      "Processing Record 33 of Set 11 | diphu\n",
      "Processing Record 34 of Set 11 | bandundu\n",
      "Processing Record 35 of Set 11 | kedougou\n",
      "Processing Record 36 of Set 11 | neiafu\n",
      "------------------------------\n",
      "Data Retrieval Complete\n",
      "------------------------------\n"
     ]
    }
   ],
   "source": [
    "# Empty lists for data required\n",
    "city_name = []\n",
    "countries = []\n",
    "lats = []\n",
    "lngs = []\n",
    "dates = []\n",
    "max_temps = []\n",
    "cloudinesses = []\n",
    "humidities = []\n",
    "wind_speeds = []\n",
    "\n",
    "# set initial count quantities for organization\n",
    "count_one = 0\n",
    "set_one = 1\n",
    "\n",
    "# loops for creating dataframe columns\n",
    "for city in cities:\n",
    "    try:\n",
    "        response = requests.get(query_url + city.replace(\" \",\"&\")).json()\n",
    "        cloudinesses.append(response['clouds']['all'])\n",
    "        countries.append(response['sys']['country'])\n",
    "        dates.append(response['dt'])\n",
    "        humidities.append(response['main']['humidity'])\n",
    "        lats.append(response['coord']['lat'])\n",
    "        lngs.append(response['coord']['lon'])\n",
    "        max_temps.append(response['main']['temp_max'])\n",
    "        wind_speeds.append(response['wind']['speed'])\n",
    "        if count_one > 48:\n",
    "            count_one = 1\n",
    "            set_one += 1\n",
    "            city_name.append(city)\n",
    "        else:\n",
    "            count_one += 1\n",
    "            city_name.append(city)\n",
    "        print(f\"Processing Record {count_one} of Set {set_one} | {city}\")\n",
    "    except Exception:\n",
    "        print(\"City not found. Skipping...\")\n",
    "print(\"------------------------------\\nData Retrieval Complete\\n------------------------------\")"
   ]
  },
  {
   "cell_type": "markdown",
   "metadata": {},
   "source": [
    "### Convert Raw Data to DataFrame\n",
    "* Export the city data into a .csv.\n",
    "* Display the DataFrame"
   ]
  },
  {
   "cell_type": "code",
   "execution_count": 7,
   "metadata": {},
   "outputs": [],
   "source": [
    "# Create a Dictionary of values with Headers\n",
    "weather_dict = {\n",
    "    \"City\":city_name,\n",
    "    \"Lat\":lats,\n",
    "    \"Lng\":lngs,\n",
    "    \"Max Temp\":max_temps,\n",
    "    \"Humidity\":humidities,\n",
    "    \"Cloudiness\":cloudinesses,\n",
    "    \"Wind Speed\":wind_speeds,\n",
    "    \"Country\":countries,\n",
    "    \"Date\":dates }"
   ]
  },
  {
   "cell_type": "code",
   "execution_count": 8,
   "metadata": {},
   "outputs": [
    {
     "data": {
      "text/html": [
       "<div>\n",
       "<style scoped>\n",
       "    .dataframe tbody tr th:only-of-type {\n",
       "        vertical-align: middle;\n",
       "    }\n",
       "\n",
       "    .dataframe tbody tr th {\n",
       "        vertical-align: top;\n",
       "    }\n",
       "\n",
       "    .dataframe thead th {\n",
       "        text-align: right;\n",
       "    }\n",
       "</style>\n",
       "<table border=\"1\" class=\"dataframe\">\n",
       "  <thead>\n",
       "    <tr style=\"text-align: right;\">\n",
       "      <th></th>\n",
       "      <th>City</th>\n",
       "      <th>Lat</th>\n",
       "      <th>Lng</th>\n",
       "      <th>Max Temp</th>\n",
       "      <th>Humidity</th>\n",
       "      <th>Cloudiness</th>\n",
       "      <th>Wind Speed</th>\n",
       "      <th>Country</th>\n",
       "      <th>Date</th>\n",
       "    </tr>\n",
       "  </thead>\n",
       "  <tbody>\n",
       "    <tr>\n",
       "      <th>0</th>\n",
       "      <td>lata</td>\n",
       "      <td>40.16</td>\n",
       "      <td>-8.33</td>\n",
       "      <td>55.00</td>\n",
       "      <td>100</td>\n",
       "      <td>75</td>\n",
       "      <td>3.36</td>\n",
       "      <td>PT</td>\n",
       "      <td>1607530078</td>\n",
       "    </tr>\n",
       "    <tr>\n",
       "      <th>1</th>\n",
       "      <td>ushuaia</td>\n",
       "      <td>-54.80</td>\n",
       "      <td>-68.30</td>\n",
       "      <td>53.60</td>\n",
       "      <td>66</td>\n",
       "      <td>75</td>\n",
       "      <td>11.41</td>\n",
       "      <td>AR</td>\n",
       "      <td>1607529952</td>\n",
       "    </tr>\n",
       "    <tr>\n",
       "      <th>2</th>\n",
       "      <td>busselton</td>\n",
       "      <td>-33.65</td>\n",
       "      <td>115.33</td>\n",
       "      <td>63.00</td>\n",
       "      <td>84</td>\n",
       "      <td>0</td>\n",
       "      <td>1.01</td>\n",
       "      <td>AU</td>\n",
       "      <td>1607530078</td>\n",
       "    </tr>\n",
       "    <tr>\n",
       "      <th>3</th>\n",
       "      <td>soyo</td>\n",
       "      <td>-6.13</td>\n",
       "      <td>12.37</td>\n",
       "      <td>79.81</td>\n",
       "      <td>78</td>\n",
       "      <td>83</td>\n",
       "      <td>9.42</td>\n",
       "      <td>AO</td>\n",
       "      <td>1607530078</td>\n",
       "    </tr>\n",
       "    <tr>\n",
       "      <th>4</th>\n",
       "      <td>delta del tigre</td>\n",
       "      <td>5.50</td>\n",
       "      <td>6.00</td>\n",
       "      <td>83.35</td>\n",
       "      <td>75</td>\n",
       "      <td>100</td>\n",
       "      <td>5.82</td>\n",
       "      <td>NG</td>\n",
       "      <td>1607530078</td>\n",
       "    </tr>\n",
       "  </tbody>\n",
       "</table>\n",
       "</div>"
      ],
      "text/plain": [
       "              City    Lat     Lng  Max Temp  Humidity  Cloudiness  Wind Speed  \\\n",
       "0             lata  40.16   -8.33     55.00       100          75        3.36   \n",
       "1          ushuaia -54.80  -68.30     53.60        66          75       11.41   \n",
       "2        busselton -33.65  115.33     63.00        84           0        1.01   \n",
       "3             soyo  -6.13   12.37     79.81        78          83        9.42   \n",
       "4  delta del tigre   5.50    6.00     83.35        75         100        5.82   \n",
       "\n",
       "  Country        Date  \n",
       "0      PT  1607530078  \n",
       "1      AR  1607529952  \n",
       "2      AU  1607530078  \n",
       "3      AO  1607530078  \n",
       "4      NG  1607530078  "
      ]
     },
     "execution_count": 8,
     "metadata": {},
     "output_type": "execute_result"
    }
   ],
   "source": [
    "# Create DF\n",
    "weather_df = pd.DataFrame(weather_dict)\n",
    "weather_df.head()"
   ]
  },
  {
   "cell_type": "code",
   "execution_count": 10,
   "metadata": {},
   "outputs": [],
   "source": [
    "# Export DF to csv\n",
    "weather_df.to_csv(output_data_file)\n"
   ]
  },
  {
   "cell_type": "markdown",
   "metadata": {},
   "source": [
    "## Inspect the data and remove the cities where the humidity > 100%.\n",
    "----\n",
    "Skip this step if there are no cities that have humidity > 100%. "
   ]
  },
  {
   "cell_type": "code",
   "execution_count": 12,
   "metadata": {},
   "outputs": [
    {
     "data": {
      "text/plain": [
       "City          526\n",
       "Lat           526\n",
       "Lng           526\n",
       "Max Temp      526\n",
       "Humidity      526\n",
       "Cloudiness    526\n",
       "Wind Speed    526\n",
       "Country       526\n",
       "Date          526\n",
       "dtype: int64"
      ]
     },
     "execution_count": 12,
     "metadata": {},
     "output_type": "execute_result"
    }
   ],
   "source": [
    "#Count Before\n",
    "\n",
    "weather_df.count()"
   ]
  },
  {
   "cell_type": "code",
   "execution_count": 22,
   "metadata": {},
   "outputs": [
    {
     "data": {
      "text/html": [
       "<div>\n",
       "<style scoped>\n",
       "    .dataframe tbody tr th:only-of-type {\n",
       "        vertical-align: middle;\n",
       "    }\n",
       "\n",
       "    .dataframe tbody tr th {\n",
       "        vertical-align: top;\n",
       "    }\n",
       "\n",
       "    .dataframe thead th {\n",
       "        text-align: right;\n",
       "    }\n",
       "</style>\n",
       "<table border=\"1\" class=\"dataframe\">\n",
       "  <thead>\n",
       "    <tr style=\"text-align: right;\">\n",
       "      <th></th>\n",
       "      <th>City</th>\n",
       "      <th>Lat</th>\n",
       "      <th>Lng</th>\n",
       "      <th>Max Temp</th>\n",
       "      <th>Humidity</th>\n",
       "      <th>Cloudiness</th>\n",
       "      <th>Wind Speed</th>\n",
       "      <th>Country</th>\n",
       "      <th>Date</th>\n",
       "    </tr>\n",
       "  </thead>\n",
       "  <tbody>\n",
       "  </tbody>\n",
       "</table>\n",
       "</div>"
      ],
      "text/plain": [
       "Empty DataFrame\n",
       "Columns: [City, Lat, Lng, Max Temp, Humidity, Cloudiness, Wind Speed, Country, Date]\n",
       "Index: []"
      ]
     },
     "execution_count": 22,
     "metadata": {},
     "output_type": "execute_result"
    }
   ],
   "source": [
    "#  Get the indices of cities that have humidity over 100%.\n",
    "HumidityPlus100 = weather_df['Humidity'] > 100\n",
    "\n",
    "HumidityPlus100_df = weather_df[HumidityPlus100]\n",
    "HumidityPlus100_df"
   ]
  },
  {
   "cell_type": "code",
   "execution_count": 23,
   "metadata": {},
   "outputs": [
    {
     "data": {
      "text/html": [
       "<div>\n",
       "<style scoped>\n",
       "    .dataframe tbody tr th:only-of-type {\n",
       "        vertical-align: middle;\n",
       "    }\n",
       "\n",
       "    .dataframe tbody tr th {\n",
       "        vertical-align: top;\n",
       "    }\n",
       "\n",
       "    .dataframe thead th {\n",
       "        text-align: right;\n",
       "    }\n",
       "</style>\n",
       "<table border=\"1\" class=\"dataframe\">\n",
       "  <thead>\n",
       "    <tr style=\"text-align: right;\">\n",
       "      <th></th>\n",
       "      <th>City</th>\n",
       "      <th>Lat</th>\n",
       "      <th>Lng</th>\n",
       "      <th>Max Temp</th>\n",
       "      <th>Humidity</th>\n",
       "      <th>Cloudiness</th>\n",
       "      <th>Wind Speed</th>\n",
       "      <th>Country</th>\n",
       "      <th>Date</th>\n",
       "    </tr>\n",
       "  </thead>\n",
       "  <tbody>\n",
       "    <tr>\n",
       "      <th>0</th>\n",
       "      <td>lata</td>\n",
       "      <td>40.16</td>\n",
       "      <td>-8.33</td>\n",
       "      <td>55.00</td>\n",
       "      <td>100</td>\n",
       "      <td>75</td>\n",
       "      <td>3.36</td>\n",
       "      <td>PT</td>\n",
       "      <td>1607530078</td>\n",
       "    </tr>\n",
       "    <tr>\n",
       "      <th>1</th>\n",
       "      <td>ushuaia</td>\n",
       "      <td>-54.80</td>\n",
       "      <td>-68.30</td>\n",
       "      <td>53.60</td>\n",
       "      <td>66</td>\n",
       "      <td>75</td>\n",
       "      <td>11.41</td>\n",
       "      <td>AR</td>\n",
       "      <td>1607529952</td>\n",
       "    </tr>\n",
       "    <tr>\n",
       "      <th>2</th>\n",
       "      <td>busselton</td>\n",
       "      <td>-33.65</td>\n",
       "      <td>115.33</td>\n",
       "      <td>63.00</td>\n",
       "      <td>84</td>\n",
       "      <td>0</td>\n",
       "      <td>1.01</td>\n",
       "      <td>AU</td>\n",
       "      <td>1607530078</td>\n",
       "    </tr>\n",
       "    <tr>\n",
       "      <th>3</th>\n",
       "      <td>soyo</td>\n",
       "      <td>-6.13</td>\n",
       "      <td>12.37</td>\n",
       "      <td>79.81</td>\n",
       "      <td>78</td>\n",
       "      <td>83</td>\n",
       "      <td>9.42</td>\n",
       "      <td>AO</td>\n",
       "      <td>1607530078</td>\n",
       "    </tr>\n",
       "    <tr>\n",
       "      <th>4</th>\n",
       "      <td>delta del tigre</td>\n",
       "      <td>5.50</td>\n",
       "      <td>6.00</td>\n",
       "      <td>83.35</td>\n",
       "      <td>75</td>\n",
       "      <td>100</td>\n",
       "      <td>5.82</td>\n",
       "      <td>NG</td>\n",
       "      <td>1607530078</td>\n",
       "    </tr>\n",
       "  </tbody>\n",
       "</table>\n",
       "</div>"
      ],
      "text/plain": [
       "              City    Lat     Lng  Max Temp  Humidity  Cloudiness  Wind Speed  \\\n",
       "0             lata  40.16   -8.33     55.00       100          75        3.36   \n",
       "1          ushuaia -54.80  -68.30     53.60        66          75       11.41   \n",
       "2        busselton -33.65  115.33     63.00        84           0        1.01   \n",
       "3             soyo  -6.13   12.37     79.81        78          83        9.42   \n",
       "4  delta del tigre   5.50    6.00     83.35        75         100        5.82   \n",
       "\n",
       "  Country        Date  \n",
       "0      PT  1607530078  \n",
       "1      AR  1607529952  \n",
       "2      AU  1607530078  \n",
       "3      AO  1607530078  \n",
       "4      NG  1607530078  "
      ]
     },
     "execution_count": 23,
     "metadata": {},
     "output_type": "execute_result"
    }
   ],
   "source": [
    "weather_df.head()\n"
   ]
  },
  {
   "cell_type": "markdown",
   "metadata": {},
   "source": [
    "## Plotting the Data\n",
    "* Use proper labeling of the plots using plot titles (including date of analysis) and axes labels.\n",
    "* Save the plotted figures as .pngs."
   ]
  },
  {
   "cell_type": "markdown",
   "metadata": {},
   "source": [
    "## Latitude vs. Temperature Plot"
   ]
  },
  {
   "cell_type": "code",
   "execution_count": 30,
   "metadata": {
    "scrolled": true
   },
   "outputs": [
    {
     "data": {
      "image/png": "[encoded data removed]",
      "text/plain": [
       "<Figure size 432x288 with 1 Axes>"
      ]
     },
     "metadata": {
      "needs_background": "light"
     },
     "output_type": "display_data"
    }
   ],
   "source": [
    "plt.scatter(weather_df[\"Lat\"],weather_df[\"Max Temp\"],edgecolors=\"red\",facecolors=\"blue\")\n",
    "plt.title(\"City Latitude vs. Max Temperature\")\n",
    "plt.xlabel(\"Latitude\")\n",
    "plt.ylabel(\"Max Temperature (F)\")\n",
    "plt.savefig(\"output_data/LatvsTemp.png\")\n",
    "plt.show()"
   ]
  },
  {
   "cell_type": "markdown",
   "metadata": {},
   "source": [
    "The plot above shows temperature plotted in relationship to city latitude.\n",
    "As expected the further away from the equator the cooler the temperature."
   ]
  },
  {
   "cell_type": "markdown",
   "metadata": {},
   "source": [
    "## Latitude vs. Humidity Plot"
   ]
  },
  {
   "cell_type": "code",
   "execution_count": 31,
   "metadata": {},
   "outputs": [
    {
     "data": {
      "image/png": "[encoded data removed]",
      "text/plain": [
       "<Figure size 432x288 with 1 Axes>"
      ]
     },
     "metadata": {
      "needs_background": "light"
     },
     "output_type": "display_data"
    }
   ],
   "source": [
    "plt.scatter(weather_df[\"Lat\"],weather_df[\"Humidity\"],edgecolors=\"red\",facecolors=\"blue\")\n",
    "plt.title(\"City Latitude vs. Humidity\")\n",
    "plt.xlabel(\"Latitude\")\n",
    "plt.ylabel(\"Humidity)\")\n",
    "plt.savefig(\"output_data/LatvsHumidity.png\")\n",
    "plt.show()"
   ]
  },
  {
   "cell_type": "markdown",
   "metadata": {},
   "source": [
    "The plot above shows humidity plotted in relationship to city latitude.\n",
    "There is a fairly large cluster of high humidity as you move further away from the equator in the Northern Hemisphere."
   ]
  },
  {
   "cell_type": "markdown",
   "metadata": {},
   "source": [
    "## Latitude vs. Cloudiness Plot"
   ]
  },
  {
   "cell_type": "code",
   "execution_count": 32,
   "metadata": {},
   "outputs": [
    {
     "data": {
      "image/png": "[encoded data removed]",
      "text/plain": [
       "<Figure size 432x288 with 1 Axes>"
      ]
     },
     "metadata": {
      "needs_background": "light"
     },
     "output_type": "display_data"
    }
   ],
   "source": [
    "plt.scatter(weather_df[\"Lat\"],weather_df[\"Cloudiness\"],edgecolors=\"red\",facecolors=\"blue\")\n",
    "plt.title(\"City Latitude vs. Cloudiness\")\n",
    "plt.xlabel(\"Latitude\")\n",
    "plt.ylabel(\"Cloudiness)\")\n",
    "plt.savefig(\"output_data/LatvsCloud.png\")\n",
    "plt.show()"
   ]
  },
  {
   "cell_type": "markdown",
   "metadata": {},
   "source": [
    "The plot above shows cloudiness plotted in relationship to city latitude.\n",
    "There does not appear to be a relationship between latitude and cloudiness"
   ]
  },
  {
   "cell_type": "markdown",
   "metadata": {},
   "source": [
    "## Latitude vs. Wind Speed Plot"
   ]
  },
  {
   "cell_type": "code",
   "execution_count": 33,
   "metadata": {},
   "outputs": [
    {
     "data": {
      "image/png": "[encoded data removed]",
      "text/plain": [
       "<Figure size 432x288 with 1 Axes>"
      ]
     },
     "metadata": {
      "needs_background": "light"
     },
     "output_type": "display_data"
    }
   ],
   "source": [
    "plt.scatter(weather_df[\"Lat\"],weather_df[\"Wind Speed\"],edgecolors=\"red\",facecolors=\"blue\")\n",
    "plt.title(\"City Latitude vs. Wind Speed\")\n",
    "plt.xlabel(\"Latitude\")\n",
    "plt.ylabel(\"Wind Speed)\")\n",
    "plt.savefig(\"output_data/LatvsWS.png\")\n",
    "plt.show()"
   ]
  },
  {
   "cell_type": "markdown",
   "metadata": {},
   "source": [
    "The plot above shows wind speed plotted in relationship to city latitude.\n",
    "There does not appear to be a relationship between latitude and wind speed."
   ]
  },
  {
   "cell_type": "markdown",
   "metadata": {},
   "source": [
    "## Linear Regression"
   ]
  },
  {
   "cell_type": "code",
   "execution_count": 37,
   "metadata": {},
   "outputs": [],
   "source": [
    "# Create new dataframes for Northern and Southern Hemispheres\n",
    "\n",
    "north_df = weather_df.loc[pd.to_numeric(weather_df[\"Lat\"]).astype(float) > 0, :]\n",
    "south_df = weather_df.loc[pd.to_numeric(weather_df[\"Lat\"]).astype(float) < 0, :]"
   ]
  },
  {
   "cell_type": "markdown",
   "metadata": {},
   "source": [
    "####  Northern Hemisphere - Max Temp vs. Latitude Linear Regression"
   ]
  },
  {
   "cell_type": "code",
   "execution_count": 53,
   "metadata": {},
   "outputs": [
    {
     "name": "stdout",
     "output_type": "stream",
     "text": [
      "Regression line equation is: y = -1.35x + 97.15\n",
      "The r-squared is: -0.8745497024617048\n",
      "The regression displays a negative correlation.\n",
      "In the northern hemisphere, as you move away from the equator the temperature decreases.\n"
     ]
    },
    {
     "data": {
      "image/png": "[encoded data removed]",
      "text/plain": [
       "<Figure size 432x288 with 1 Axes>"
      ]
     },
     "metadata": {
      "needs_background": "light"
     },
     "output_type": "display_data"
    }
   ],
   "source": [
    "x_values = pd.to_numeric(north_df['Lat']).astype(float)\n",
    "y_values = pd.to_numeric(north_df['Max Temp']).astype(float)\n",
    "(slope, intercept, rvalue, pvalue, stderr) = linregress(x_values, y_values)\n",
    "regress_values = x_values * slope + intercept\n",
    "line_eq = \"y = \" + str(round(slope,2)) + \"x + \" + str(round(intercept,2))\n",
    "print(f\"Regression line equation is: {line_eq}\")\n",
    "plt.scatter(x_values,y_values)\n",
    "plt.plot(x_values,regress_values,\"r-\")\n",
    "plt.annotate(line_eq,(6,-20),fontsize=15,color=\"black\")\n",
    "plt.xlabel('Lat')\n",
    "plt.ylabel('Max Temperature')\n",
    "plt.title('Northern Hemisphere - Max Temp vs. Latitude Linear Regression')\n",
    "print(f\"The r-squared is: {rvalue}\")\n",
    "print(\"The regression displays a negative correlation.\")\n",
    "print(\"In the northern hemisphere, as you move away from the equator the temperature decreases.\")\n",
    "plt.savefig(\"output_data/NHTVSLAT.png\")\n",
    "plt.show()"
   ]
  },
  {
   "cell_type": "markdown",
   "metadata": {},
   "source": [
    "####  Southern Hemisphere - Max Temp vs. Latitude Linear Regression"
   ]
  },
  {
   "cell_type": "code",
   "execution_count": 52,
   "metadata": {},
   "outputs": [
    {
     "name": "stdout",
     "output_type": "stream",
     "text": [
      "Regression line equation is: y = 0.46x + 84.96\n",
      "The r-squared is: 0.5862600481407491\n",
      "The regression displays a positive correlation.\n",
      "In the southern hemisphere, as you get closer to the equator the temperature increases.\n"
     ]
    },
    {
     "data": {
      "image/png": "[encoded data removed]",
      "text/plain": [
       "<Figure size 432x288 with 1 Axes>"
      ]
     },
     "metadata": {
      "needs_background": "light"
     },
     "output_type": "display_data"
    }
   ],
   "source": [
    "x_values = pd.to_numeric(south_df['Lat']).astype(float)\n",
    "y_values = pd.to_numeric(south_df['Max Temp']).astype(float)\n",
    "(slope, intercept, rvalue, pvalue, stderr) = linregress(x_values, y_values)\n",
    "regress_values = x_values * slope + intercept\n",
    "line_eq = \"y = \" + str(round(slope,2)) + \"x + \" + str(round(intercept,2))\n",
    "print(f\"Regression line equation is: {line_eq}\")\n",
    "plt.scatter(x_values,y_values)\n",
    "plt.plot(x_values,regress_values,\"r-\")\n",
    "plt.annotate(line_eq,(-55,95),fontsize=15,color=\"black\")\n",
    "plt.xlabel('Lat')\n",
    "plt.ylabel('Max Temperature')\n",
    "plt.title('Southern Hemisphere - Max Temp vs. Latitude Linear Regression')\n",
    "print(f\"The r-squared is: {rvalue}\")\n",
    "print(\"The regression displays a positive correlation.\")\n",
    "print(\"In the southern hemisphere, as you get closer to the equator the temperature increases.\")\n",
    "plt.savefig(\"output_data/SHTVSLAT.png\")\n",
    "plt.show()"
   ]
  },
  {
   "cell_type": "markdown",
   "metadata": {},
   "source": [
    "####  Northern Hemisphere - Humidity (%) vs. Latitude Linear Regression"
   ]
  },
  {
   "cell_type": "code",
   "execution_count": 55,
   "metadata": {},
   "outputs": [
    {
     "name": "stdout",
     "output_type": "stream",
     "text": [
      "Regression line equation is: y = 0.62x + 47.04\n",
      "The r-squared is: 0.5117891210091491\n",
      "The regression does not display a strong correlation.\n"
     ]
    },
    {
     "data": {
      "image/png": "[encoded data removed]",
      "text/plain": [
       "<Figure size 432x288 with 1 Axes>"
      ]
     },
     "metadata": {
      "needs_background": "light"
     },
     "output_type": "display_data"
    }
   ],
   "source": [
    "x_values = pd.to_numeric(north_df['Lat']).astype(float)\n",
    "y_values = pd.to_numeric(north_df['Humidity']).astype(float)\n",
    "(slope, intercept, rvalue, pvalue, stderr) = linregress(x_values, y_values)\n",
    "regress_values = x_values * slope + intercept\n",
    "line_eq = \"y = \" + str(round(slope,2)) + \"x + \" + str(round(intercept,2))\n",
    "print(f\"Regression line equation is: {line_eq}\")\n",
    "plt.scatter(x_values,y_values)\n",
    "plt.plot(x_values,regress_values,\"r-\")\n",
    "plt.annotate(line_eq,(20,20),fontsize=15,color=\"black\")\n",
    "plt.xlabel('Lat')\n",
    "plt.ylabel('Humidity')\n",
    "plt.title('Northern Hemisphere - Humiditiy vs. Latitude Linear Regression')\n",
    "print(f\"The r-squared is: {rvalue}\")\n",
    "print(\"The regression does not display a strong correlation.\")\n",
    "plt.savefig(\"output_data/NHHUMVSLAT.png\")\n",
    "plt.show()"
   ]
  },
  {
   "cell_type": "markdown",
   "metadata": {},
   "source": [
    "####  Southern Hemisphere - Humidity (%) vs. Latitude Linear Regression"
   ]
  },
  {
   "cell_type": "code",
   "execution_count": 57,
   "metadata": {},
   "outputs": [
    {
     "name": "stdout",
     "output_type": "stream",
     "text": [
      "Regression line equation is: y = 0.21x + 71.95\n",
      "The r-squared is: 0.13608741038959285\n",
      "The regression does not display a strong correlation.\n"
     ]
    },
    {
     "data": {
      "image/png": "[encoded data removed]",
      "text/plain": [
       "<Figure size 432x288 with 1 Axes>"
      ]
     },
     "metadata": {
      "needs_background": "light"
     },
     "output_type": "display_data"
    }
   ],
   "source": [
    "x_values = pd.to_numeric(south_df['Lat']).astype(float)\n",
    "y_values = pd.to_numeric(south_df['Humidity']).astype(float)\n",
    "(slope, intercept, rvalue, pvalue, stderr) = linregress(x_values, y_values)\n",
    "regress_values = x_values * slope + intercept\n",
    "line_eq = \"y = \" + str(round(slope,2)) + \"x + \" + str(round(intercept,2))\n",
    "print(f\"Regression line equation is: {line_eq}\")\n",
    "plt.scatter(x_values,y_values)\n",
    "plt.plot(x_values,regress_values,\"r-\")\n",
    "plt.annotate(line_eq,(-50,20),fontsize=15,color=\"black\")\n",
    "plt.xlabel('Lat')\n",
    "plt.ylabel('Humidity')\n",
    "plt.title('Southern Hemisphere - Humiditiy vs. Latitude Linear Regression')\n",
    "print(f\"The r-squared is: {rvalue}\")\n",
    "print(\"The regression does not display a strong correlation.\")\n",
    "plt.savefig(\"output_data/SHHUMVSLAT.png\")\n",
    "plt.show()"
   ]
  },
  {
   "cell_type": "markdown",
   "metadata": {},
   "source": [
    "####  Northern Hemisphere - Cloudiness (%) vs. Latitude Linear Regression"
   ]
  },
  {
   "cell_type": "code",
   "execution_count": 63,
   "metadata": {},
   "outputs": [
    {
     "name": "stdout",
     "output_type": "stream",
     "text": [
      "Regression line equation is: y = 0.44x + 32.02\n",
      "The r-squared is: 0.21532460387823213\n",
      "The regression does not display a strong correlation.\n"
     ]
    },
    {
     "data": {
      "image/png": "[encoded data removed]",
      "text/plain": [
       "<Figure size 432x288 with 1 Axes>"
      ]
     },
     "metadata": {
      "needs_background": "light"
     },
     "output_type": "display_data"
    }
   ],
   "source": [
    "x_values = pd.to_numeric(north_df['Lat']).astype(float)\n",
    "y_values = pd.to_numeric(north_df['Cloudiness']).astype(float)\n",
    "(slope, intercept, rvalue, pvalue, stderr) = linregress(x_values, y_values)\n",
    "regress_values = x_values * slope + intercept\n",
    "line_eq = \"y = \" + str(round(slope,2)) + \"x + \" + str(round(intercept,2))\n",
    "print(f\"Regression line equation is: {line_eq}\")\n",
    "plt.scatter(x_values,y_values)\n",
    "plt.plot(x_values,regress_values,\"r-\")\n",
    "plt.annotate(line_eq,(40,40),fontsize=15,color=\"black\")\n",
    "plt.xlabel('Lat')\n",
    "plt.ylabel('Cloudiness')\n",
    "plt.title('Northern Hemisphere - Cloudiness vs. Latitude Linear Regression')\n",
    "print(f\"The r-squared is: {rvalue}\")\n",
    "print(\"The regression does not display a strong correlation.\")\n",
    "plt.savefig(\"output_data/NHCLOUDVSLAT.png\")\n",
    "plt.show()"
   ]
  },
  {
   "cell_type": "markdown",
   "metadata": {},
   "source": [
    "####  Southern Hemisphere - Cloudiness (%) vs. Latitude Linear Regression"
   ]
  },
  {
   "cell_type": "code",
   "execution_count": 64,
   "metadata": {},
   "outputs": [
    {
     "name": "stdout",
     "output_type": "stream",
     "text": [
      "Regression line equation is: y = 0.94x + 73.18\n",
      "The r-squared is: 0.3327479703007702\n",
      "The regression does not display a strong correlation.\n"
     ]
    },
    {
     "data": {
      "image/png": "[encoded data removed]",
      "text/plain": [
       "<Figure size 432x288 with 1 Axes>"
      ]
     },
     "metadata": {
      "needs_background": "light"
     },
     "output_type": "display_data"
    }
   ],
   "source": [
    "x_values = pd.to_numeric(south_df['Lat']).astype(float)\n",
    "y_values = pd.to_numeric(south_df['Cloudiness']).astype(float)\n",
    "(slope, intercept, rvalue, pvalue, stderr) = linregress(x_values, y_values)\n",
    "regress_values = x_values * slope + intercept\n",
    "line_eq = \"y = \" + str(round(slope,2)) + \"x + \" + str(round(intercept,2))\n",
    "print(f\"Regression line equation is: {line_eq}\")\n",
    "plt.scatter(x_values,y_values)\n",
    "plt.plot(x_values,regress_values,\"r-\")\n",
    "plt.annotate(line_eq,(-55,80),fontsize=15,color=\"black\")\n",
    "plt.xlabel('Lat')\n",
    "plt.ylabel('Cloudiness')\n",
    "plt.title('Southern Hemisphere - Cloudiness vs. Latitude Linear Regression')\n",
    "print(f\"The r-squared is: {rvalue}\")\n",
    "print(\"The regression does not display a strong correlation.\")\n",
    "plt.savefig(\"output_data/SHCLOUDVSLAT.png\")\n",
    "plt.show()"
   ]
  },
  {
   "cell_type": "markdown",
   "metadata": {},
   "source": [
    "####  Northern Hemisphere - Wind Speed (mph) vs. Latitude Linear Regression"
   ]
  },
  {
   "cell_type": "code",
   "execution_count": 66,
   "metadata": {},
   "outputs": [
    {
     "name": "stdout",
     "output_type": "stream",
     "text": [
      "Regression line equation is: y = 0.03x + 6.83\n",
      "The r-squared is: 0.09666581468075906\n",
      "The regression does not display a strong correlation.\n"
     ]
    },
    {
     "data": {
      "image/png": "[encoded data removed]",
      "text/plain": [
       "<Figure size 432x288 with 1 Axes>"
      ]
     },
     "metadata": {
      "needs_background": "light"
     },
     "output_type": "display_data"
    }
   ],
   "source": [
    "x_values = pd.to_numeric(north_df['Lat']).astype(float)\n",
    "y_values = pd.to_numeric(north_df['Wind Speed']).astype(float)\n",
    "(slope, intercept, rvalue, pvalue, stderr) = linregress(x_values, y_values)\n",
    "regress_values = x_values * slope + intercept\n",
    "line_eq = \"y = \" + str(round(slope,2)) + \"x + \" + str(round(intercept,2))\n",
    "print(f\"Regression line equation is: {line_eq}\")\n",
    "plt.scatter(x_values,y_values)\n",
    "plt.plot(x_values,regress_values,\"r-\")\n",
    "plt.annotate(line_eq,(10,40),fontsize=15,color=\"black\")\n",
    "plt.xlabel('Lat')\n",
    "plt.ylabel('Wind Speed')\n",
    "plt.title('Northern Hemisphere - Wind Speed vs. Latitude Linear Regression')\n",
    "print(f\"The r-squared is: {rvalue}\")\n",
    "print(\"The regression does not display a strong correlation.\")\n",
    "plt.savefig(\"output_data/NHWSVSLAT.png\")\n",
    "plt.show()"
   ]
  },
  {
   "cell_type": "markdown",
   "metadata": {},
   "source": [
    "####  Southern Hemisphere - Wind Speed (mph) vs. Latitude Linear Regression"
   ]
  },
  {
   "cell_type": "code",
   "execution_count": 68,
   "metadata": {},
   "outputs": [
    {
     "name": "stdout",
     "output_type": "stream",
     "text": [
      "Regression line equation is: y = -0.07x + 7.17\n",
      "The r-squared is: -0.180857248475637\n",
      "The regression does not display a strong correlation.\n"
     ]
    },
    {
     "data": {
      "image/png": "[encoded data removed]",
      "text/plain": [
       "<Figure size 432x288 with 1 Axes>"
      ]
     },
     "metadata": {
      "needs_background": "light"
     },
     "output_type": "display_data"
    }
   ],
   "source": [
    "x_values = pd.to_numeric(south_df['Lat']).astype(float)\n",
    "y_values = pd.to_numeric(south_df['Wind Speed']).astype(float)\n",
    "(slope, intercept, rvalue, pvalue, stderr) = linregress(x_values, y_values)\n",
    "regress_values = x_values * slope + intercept\n",
    "line_eq = \"y = \" + str(round(slope,2)) + \"x + \" + str(round(intercept,2))\n",
    "print(f\"Regression line equation is: {line_eq}\")\n",
    "plt.scatter(x_values,y_values)\n",
    "plt.plot(x_values,regress_values,\"r-\")\n",
    "plt.annotate(line_eq,(-55,20),fontsize=15,color=\"black\")\n",
    "plt.xlabel('Lat')\n",
    "plt.ylabel('Wind Speed')\n",
    "plt.title('Southern Hemisphere - Wind Speed vs. Latitude Linear Regression')\n",
    "print(f\"The r-squared is: {rvalue}\")\n",
    "print(\"The regression does not display a strong correlation.\")\n",
    "plt.savefig(\"output_data/SHWSVSLAT.png\")\n",
    "plt.show()"
   ]
  }
 ],
 "metadata": {
  "anaconda-cloud": {},
  "kernel_info": {
   "name": "python3"
  },
  "kernelspec": {
   "display_name": "AdvancedPythonEnviro",
   "language": "python",
   "name": "advancedpythonenviro"
  },
  "language_info": {
   "codemirror_mode": {
    "name": "ipython",
    "version": 3
   },
   "file_extension": ".py",
   "mimetype": "text/x-python",
   "name": "python",
   "nbconvert_exporter": "python",
   "pygments_lexer": "ipython3",
   "version": "3.6.10"
  },
  "latex_envs": {
   "LaTeX_envs_menu_present": true,
   "autoclose": false,
   "autocomplete": true,
   "bibliofile": "biblio.bib",
   "cite_by": "apalike",
   "current_citInitial": 1,
   "eqLabelWithNumbers": true,
   "eqNumInitial": 1,
   "hotkeys": {
    "equation": "Ctrl-E",
    "itemize": "Ctrl-I"
   },
   "labels_anchors": false,
   "latex_user_defs": false,
   "report_style_numbering": false,
   "user_envs_cfg": false
  },
  "nteract": {
   "version": "0.12.3"
  }
 },
 "nbformat": 4,
 "nbformat_minor": 2
}
